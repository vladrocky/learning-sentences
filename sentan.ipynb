{
 "cells": [
  {
   "cell_type": "markdown",
   "metadata": {},
   "source": [
    "# Сравнение предложений"
   ]
  },
  {
   "cell_type": "markdown",
   "metadata": {},
   "source": [
    "### Объявление функций и импорт библиотек"
   ]
  },
  {
   "cell_type": "code",
   "execution_count": 1,
   "metadata": {},
   "outputs": [],
   "source": [
    "import re\n",
    "import numpy as np\n",
    "from scipy import spatial"
   ]
  },
  {
   "cell_type": "code",
   "execution_count": 2,
   "metadata": {},
   "outputs": [],
   "source": [
    "# dictionary of uniq words\n",
    "words_dict = dict()"
   ]
  },
  {
   "cell_type": "code",
   "execution_count": 3,
   "metadata": {},
   "outputs": [],
   "source": [
    "# func for add new uniq word in list\n",
    "\n",
    "def uniq_words(list_of_word, word_for_append):\n",
    "    isOnList = False\n",
    "    for word in list_of_word:\n",
    "        if word_for_append == word:\n",
    "            isOnList = True\n",
    "            break\n",
    "    if isOnList == False:\n",
    "        list_of_word.append(word_for_append)\n",
    "    return list_of_word"
   ]
  },
  {
   "cell_type": "code",
   "execution_count": 4,
   "metadata": {},
   "outputs": [],
   "source": [
    "# func for return list wiht count of words\n",
    "\n",
    "def count_words(inpt_sentense):\n",
    "    sentense_counts = []\n",
    "    for i in range(0, len(words_dict)):\n",
    "        count = 0\n",
    "        for word in inpt_sentense:\n",
    "            if words_dict[i] == word:\n",
    "                count += 1\n",
    "        sentense_counts.append(count)\n",
    "    return sentense_counts\n",
    "    "
   ]
  },
  {
   "cell_type": "markdown",
   "metadata": {},
   "source": [
    "### Чтение из файла"
   ]
  },
  {
   "cell_type": "code",
   "execution_count": 5,
   "metadata": {
    "scrolled": true
   },
   "outputs": [],
   "source": [
    "sent_l = [] # list of sentences\n",
    "\n",
    "with open('sentences.txt') as f_sentences:\n",
    "    for line in f_sentences:\n",
    "        sent_l.append(line.strip().lower())"
   ]
  },
  {
   "cell_type": "markdown",
   "metadata": {},
   "source": [
    "### Токенизация и создание списка слов"
   ]
  },
  {
   "cell_type": "code",
   "execution_count": 6,
   "metadata": {},
   "outputs": [],
   "source": [
    "sentences_split = [re.split('[^a-z]', lin) for lin in sent_l]\n",
    "\n",
    "words_duty_list = [] # list of word with repeat\n",
    "\n",
    "for sen_word in sentences_split:\n",
    "    for word in sen_word:\n",
    "        if word:\n",
    "            words_duty_list.append(word)\n",
    "\n",
    "uniq_word_list = [] # list of uniq words\n",
    "\n",
    "for w in words_duty_list:\n",
    "    uniq_word_list = uniq_words(uniq_word_list, w)"
   ]
  },
  {
   "cell_type": "markdown",
   "metadata": {},
   "source": [
    "### Сопоставление индексов словам"
   ]
  },
  {
   "cell_type": "code",
   "execution_count": 7,
   "metadata": {},
   "outputs": [],
   "source": [
    "iter = 0;\n",
    "for word in uniq_word_list:\n",
    "    words_dict[iter] = word\n",
    "    iter += 1"
   ]
  },
  {
   "cell_type": "markdown",
   "metadata": {},
   "source": [
    "### Создание матрицы"
   ]
  },
  {
   "cell_type": "code",
   "execution_count": 8,
   "metadata": {
    "scrolled": true
   },
   "outputs": [],
   "source": [
    "senWordMatrix = np.array(map(count_words, sentences_split)) # matrix with words entries\n",
    "#print senWordMatrix\n",
    "#print senWordMatrix.shape\n",
    "\n",
    "#matrix_f = open('matrix.txt', 'a')\n",
    "#for l in senWordMatrix:\n",
    "#    matrix_f.write(str(l))\n",
    "#matrix_f.close()"
   ]
  },
  {
   "cell_type": "markdown",
   "metadata": {},
   "source": [
    "### Вычисление косинусного растояния"
   ]
  },
  {
   "cell_type": "code",
   "execution_count": 9,
   "metadata": {},
   "outputs": [],
   "source": [
    "dict_distance = dict() # dictionary of sentences with distance \n",
    "\n",
    "for i in range(1,senWordMatrix.shape[0]):\n",
    "    dict_distance[spatial.distance.cosine(senWordMatrix[0],senWordMatrix[i])] = i"
   ]
  },
  {
   "cell_type": "markdown",
   "metadata": {},
   "source": [
    "#### просто вывод всех растояний"
   ]
  },
  {
   "cell_type": "code",
   "execution_count": 10,
   "metadata": {},
   "outputs": [
    {
     "name": "stdout",
     "output_type": "stream",
     "text": [
      "строка с растоянием = 0.7327387580875756 и индексом = 6\n",
      "строка с растоянием = 0.7770887149698589 и индексом = 4\n",
      "строка с растоянием = 0.8250364469440588 и индексом = 21\n",
      "строка с растоянием = 0.8328165362273942 и индексом = 10\n",
      "строка с растоянием = 0.8396432548525454 и индексом = 12\n",
      "строка с растоянием = 0.8406361854220809 и индексом = 16\n",
      "строка с растоянием = 0.8427572744917122 и индексом = 20\n",
      "строка с растоянием = 0.8644738145642124 и индексом = 2\n",
      "строка с растоянием = 0.8703592552895671 и индексом = 13\n",
      "строка с растоянием = 0.8740118423302576 и индексом = 14\n",
      "строка с растоянием = 0.8804771390665607 и индексом = 11\n",
      "строка с растоянием = 0.8842724875284311 и индексом = 8\n",
      "строка с растоянием = 0.8885443574849294 и индексом = 19\n",
      "строка с растоянием = 0.8951715163278082 и индексом = 3\n",
      "строка с растоянием = 0.9055088817476932 и индексом = 9\n",
      "строка с растоянием = 0.9258750683338899 и индексом = 7\n",
      "строка с растоянием = 0.9402385695332803 и индексом = 5\n",
      "строка с растоянием = 0.9442721787424647 и индексом = 18\n",
      "строка с растоянием = 0.9527544408738466 и индексом = 1\n",
      "строка с растоянием = 0.956644501523794 и индексом = 17\n"
     ]
    }
   ],
   "source": [
    "list_keys = list(dict_distance.keys())\n",
    "list_keys.sort()\n",
    "\n",
    "for k in list_keys:\n",
    "    print 'строка с растоянием = ' + str(k) + ' и индексом = ' + str(dict_distance[k])"
   ]
  },
  {
   "cell_type": "markdown",
   "metadata": {},
   "source": [
    "### Ближайшие по косинусному растоянию\n",
    "Запись в файл"
   ]
  },
  {
   "cell_type": "code",
   "execution_count": 11,
   "metadata": {},
   "outputs": [],
   "source": [
    "first = 1.0\n",
    "second = 1.0\n",
    "\n",
    "for k in list_keys:\n",
    "    if float(k)<first:\n",
    "        first = k\n",
    "for k in list_keys:\n",
    "    if float(k)<second and float(k)>first:\n",
    "        second = k\n",
    "            \n",
    "task_first_answer = open('task_first_answer.txt', 'w')\n",
    "task_first_answer.write(str(dict_distance[first]) + ' ' + str(dict_distance[second]))\n",
    "task_first_answer.close()"
   ]
  },
  {
   "cell_type": "markdown",
   "metadata": {},
   "source": [
    "#### исходная строка: \n",
    "In comparison to dogs, cats have not undergone major changes during the domestication process.\n",
    "#### ближайшая по косинусному растоянию:\n",
    "Domestic cats are similar in size to the other members of the genus Felis, typically weighing between 4 and 5 kg (8.8 and 11.0 lb).\n",
    "#### следующая:\n",
    "In one, people deliberately tamed cats in a process of artificial selection, as they were useful predators of vermin."
   ]
  },
  {
   "cell_type": "markdown",
   "metadata": {},
   "source": [
    "#### темтики данных предложений действительно близки к исходной\n",
    "среди приведенных предложений в файле существуют менее схожие по смыслу предложения, однако, на мой взгляд, результаты таких вычеслений действительно не очень точны (ввиду приведенных в условиях задачи обстоятельсв)."
   ]
  }
 ],
 "metadata": {
  "kernelspec": {
   "display_name": "Python 2.7.16 ('base')",
   "language": "python",
   "name": "python3"
  },
  "language_info": {
   "codemirror_mode": {
    "name": "ipython",
    "version": 2
   },
   "file_extension": ".py",
   "mimetype": "text/x-python",
   "name": "python",
   "nbconvert_exporter": "python",
   "pygments_lexer": "ipython2",
   "version": "2.7.16"
  },
  "vscode": {
   "interpreter": {
    "hash": "02bec81eb7abda00c1892cd9a67ebd1f5d8bbb52e885618613884d7cb3715ad3"
   }
  }
 },
 "nbformat": 4,
 "nbformat_minor": 2
}
